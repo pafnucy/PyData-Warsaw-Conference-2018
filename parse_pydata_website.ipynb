{
 "cells": [
  {
   "cell_type": "code",
   "execution_count": 1,
   "metadata": {},
   "outputs": [],
   "source": [
    "import requests\n",
    "import bs4\n",
    "\n",
    "# sample_presentation_url = \"https://pydata.org/warsaw2018/schedule/presentation/32/\"\n",
    "sample_presentation_url = \"https://pydata.org/warsaw2018/schedule/presentation/23/\""
   ]
  },
  {
   "cell_type": "markdown",
   "metadata": {},
   "source": [
    "# Parse sample presentation"
   ]
  },
  {
   "cell_type": "code",
   "execution_count": 2,
   "metadata": {},
   "outputs": [],
   "source": [
    "sample_presentation = requests.get(sample_presentation_url )"
   ]
  },
  {
   "cell_type": "code",
   "execution_count": 3,
   "metadata": {
    "scrolled": true
   },
   "outputs": [],
   "source": [
    "presentation = bs4.BeautifulSoup(sample_presentation.content, \"lxml\")"
   ]
  },
  {
   "cell_type": "code",
   "execution_count": 4,
   "metadata": {},
   "outputs": [
    {
     "data": {
      "text/plain": [
       "<p>Identifying the number of hidden units in a fully connected layer is considered a heuristically-guided craft. A PyTorch library, Delve, was developed that allows identifying the degree of over-parameterization of a layer, thus guiding architecture selection. The library compares the intrinsic dimensionality of the layer over training, providing the user with live feedback during training.</p>"
      ]
     },
     "execution_count": 4,
     "metadata": {},
     "output_type": "execute_result"
    }
   ],
   "source": [
    "presentation.find(\"div\", {\"class\" : \"description\"}).find(\"p\")"
   ]
  },
  {
   "cell_type": "code",
   "execution_count": 5,
   "metadata": {},
   "outputs": [],
   "source": [
    "tag = presentation.find(\"div\", {\"class\" : \"abstract\"})\n",
    "# https://pydata.org/warsaw2018/schedule/presentation/23/ has no \"p\""
   ]
  },
  {
   "cell_type": "code",
   "execution_count": 6,
   "metadata": {
    "scrolled": false
   },
   "outputs": [
    {
     "data": {
      "text/plain": [
       "[<ul>\n",
       " <li>Why is identifying the number of units in a hidden layer hard?</li>\n",
       " <li>How is layer saturation calculated?</li>\n",
       " <li>Eigendecomposition of the latent representations</li>\n",
       " <li>What is the advantage of this approach over alternatives?</li>\n",
       " <li>Live - during training</li>\n",
       " <li>Lightweight PyTorch extension</li>\n",
       " <li>Intuitive - visualized as horizontal bar graph in the terminal with tqdm</li>\n",
       " <li>How do I use <a href=\"https://github.com/justinshenk/delve\">Delve</a>?</li>\n",
       " <li>Live demo</li>\n",
       " </ul>]"
      ]
     },
     "execution_count": 6,
     "metadata": {},
     "output_type": "execute_result"
    }
   ],
   "source": [
    "tag.contents"
   ]
  },
  {
   "cell_type": "code",
   "execution_count": 7,
   "metadata": {},
   "outputs": [],
   "source": [
    "def fetch_div_by_class(soup, class_name):\n",
    "    return soup.find(\"div\", {\"class\" : class_name})"
   ]
  },
  {
   "cell_type": "code",
   "execution_count": 100,
   "metadata": {},
   "outputs": [],
   "source": [
    "def find_pydata_divs(html_content):\n",
    "    soup = bs4.BeautifulSoup(html_content, \"lxml\")\n",
    "    description = fetch_div_by_class(soup, \"description\")\n",
    "    abstract = fetch_div_by_class(soup, \"abstract\")\n",
    "    author = soup.find_all(\"h4\")[1].find(\"a\").contents[0]\n",
    "    title = soup.find(\"h2\").contents[0]\n",
    "    return {\"description\" : description, \n",
    "            \"abstract\" : abstract, \n",
    "            \"author\" : author,\n",
    "            \"title\" : title}\n"
   ]
  },
  {
   "cell_type": "code",
   "execution_count": 101,
   "metadata": {},
   "outputs": [],
   "source": [
    "request = requests.get(sample_presentation_url)\n",
    "res = find_pydata_divs(request.content)"
   ]
  },
  {
   "cell_type": "code",
   "execution_count": 102,
   "metadata": {
    "scrolled": true
   },
   "outputs": [
    {
     "data": {
      "text/plain": [
       "{'abstract': <div class=\"abstract\"><ul>\n",
       " <li>Why is identifying the number of units in a hidden layer hard?</li>\n",
       " <li>How is layer saturation calculated?</li>\n",
       " <li>Eigendecomposition of the latent representations</li>\n",
       " <li>What is the advantage of this approach over alternatives?</li>\n",
       " <li>Live - during training</li>\n",
       " <li>Lightweight PyTorch extension</li>\n",
       " <li>Intuitive - visualized as horizontal bar graph in the terminal with tqdm</li>\n",
       " <li>How do I use <a href=\"https://github.com/justinshenk/delve\">Delve</a>?</li>\n",
       " <li>Live demo</li>\n",
       " </ul></div>,\n",
       " 'author': 'Justin Shenk',\n",
       " 'description': <div class=\"description\"><p>Identifying the number of hidden units in a fully connected layer is considered a heuristically-guided craft. A PyTorch library, Delve, was developed that allows identifying the degree of over-parameterization of a layer, thus guiding architecture selection. The library compares the intrinsic dimensionality of the layer over training, providing the user with live feedback during training.</p></div>,\n",
       " 'title': 'Optimizing Deep Neural Network Layer Topology with Delve'}"
      ]
     },
     "execution_count": 102,
     "metadata": {},
     "output_type": "execute_result"
    }
   ],
   "source": [
    "res"
   ]
  },
  {
   "cell_type": "code",
   "execution_count": 11,
   "metadata": {
    "scrolled": true
   },
   "outputs": [
    {
     "data": {
      "text/plain": [
       "'Optimizing Deep Neural Network Layer Topology with Delve'"
      ]
     },
     "execution_count": 11,
     "metadata": {},
     "output_type": "execute_result"
    }
   ],
   "source": [
    "presentation.find(\"h2\").contents[0]"
   ]
  },
  {
   "cell_type": "code",
   "execution_count": 12,
   "metadata": {},
   "outputs": [
    {
     "data": {
      "text/plain": [
       "'Justin Shenk'"
      ]
     },
     "execution_count": 12,
     "metadata": {},
     "output_type": "execute_result"
    }
   ],
   "source": [
    "presentation.find_all(\"h4\")[1].find(\"a\").contents[0]"
   ]
  },
  {
   "cell_type": "markdown",
   "metadata": {},
   "source": [
    "# Parse main schedule page"
   ]
  },
  {
   "cell_type": "code",
   "execution_count": 13,
   "metadata": {},
   "outputs": [],
   "source": [
    "main_url = \"https://pydata.org/warsaw2018/schedule\"\n",
    "url_base = \"https://pydata.org\"\n",
    "request = requests.get(main_url)\n",
    "soup = bs4.BeautifulSoup(request.content, \"lxml\")"
   ]
  },
  {
   "cell_type": "code",
   "execution_count": 14,
   "metadata": {},
   "outputs": [],
   "source": [
    "talk_slots = soup.find_all(\"td\", {\"class\" : \"slot-talk\"})"
   ]
  },
  {
   "cell_type": "code",
   "execution_count": 15,
   "metadata": {},
   "outputs": [
    {
     "data": {
      "text/plain": [
       "43"
      ]
     },
     "execution_count": 15,
     "metadata": {},
     "output_type": "execute_result"
    }
   ],
   "source": [
    "len(talk_slots)"
   ]
  },
  {
   "cell_type": "code",
   "execution_count": 16,
   "metadata": {},
   "outputs": [
    {
     "data": {
      "text/plain": [
       "<td class=\"slot slot-talk\" colspan=\"1\" rowspan=\"1\">\n",
       "<span class=\"title\">\n",
       "<a href=\"/warsaw2018/schedule/presentation/11/\">PyTorch 1.0: now and in the future</a>\n",
       "</span>\n",
       "<span class=\"speaker\">\n",
       "                              Adam Paszke\n",
       "                          </span>\n",
       "</td>"
      ]
     },
     "execution_count": 16,
     "metadata": {},
     "output_type": "execute_result"
    }
   ],
   "source": [
    "talk_slots[0]"
   ]
  },
  {
   "cell_type": "code",
   "execution_count": 17,
   "metadata": {},
   "outputs": [
    {
     "data": {
      "text/plain": [
       "'/warsaw2018/schedule/presentation/11/'"
      ]
     },
     "execution_count": 17,
     "metadata": {},
     "output_type": "execute_result"
    }
   ],
   "source": [
    "talk_slots[0].find(\"a\").attrs[\"href\"]"
   ]
  },
  {
   "cell_type": "code",
   "execution_count": 18,
   "metadata": {},
   "outputs": [
    {
     "data": {
      "text/plain": [
       "bs4.element.Tag"
      ]
     },
     "execution_count": 18,
     "metadata": {},
     "output_type": "execute_result"
    }
   ],
   "source": [
    "type(talk_slots[0].find(\"a\"))"
   ]
  },
  {
   "cell_type": "code",
   "execution_count": 19,
   "metadata": {},
   "outputs": [],
   "source": [
    "def extract_talk_relhref(talk_slot_td):\n",
    "    return talk_slot_td.find(\"a\").attrs[\"href\"]"
   ]
  },
  {
   "cell_type": "code",
   "execution_count": 20,
   "metadata": {},
   "outputs": [
    {
     "data": {
      "text/plain": [
       "'/warsaw2018/schedule/presentation/11/'"
      ]
     },
     "execution_count": 20,
     "metadata": {},
     "output_type": "execute_result"
    }
   ],
   "source": [
    "extract_talk_relhref(talk_slots[0])"
   ]
  },
  {
   "cell_type": "code",
   "execution_count": 21,
   "metadata": {},
   "outputs": [],
   "source": [
    "talk_urls = [url_base + extract_talk_relhref(slot) for slot in talk_slots]"
   ]
  },
  {
   "cell_type": "code",
   "execution_count": 22,
   "metadata": {},
   "outputs": [
    {
     "data": {
      "text/plain": [
       "['https://pydata.org/warsaw2018/schedule/presentation/11/',\n",
       " 'https://pydata.org/warsaw2018/schedule/presentation/32/',\n",
       " 'https://pydata.org/warsaw2018/schedule/presentation/51/',\n",
       " 'https://pydata.org/warsaw2018/schedule/presentation/3/',\n",
       " 'https://pydata.org/warsaw2018/schedule/presentation/52/',\n",
       " 'https://pydata.org/warsaw2018/schedule/presentation/37/',\n",
       " 'https://pydata.org/warsaw2018/schedule/presentation/17/',\n",
       " 'https://pydata.org/warsaw2018/schedule/presentation/33/',\n",
       " 'https://pydata.org/warsaw2018/schedule/presentation/38/',\n",
       " 'https://pydata.org/warsaw2018/schedule/presentation/9/',\n",
       " 'https://pydata.org/warsaw2018/schedule/presentation/34/',\n",
       " 'https://pydata.org/warsaw2018/schedule/presentation/36/',\n",
       " 'https://pydata.org/warsaw2018/schedule/presentation/16/',\n",
       " 'https://pydata.org/warsaw2018/schedule/presentation/22/',\n",
       " 'https://pydata.org/warsaw2018/schedule/presentation/40/',\n",
       " 'https://pydata.org/warsaw2018/schedule/presentation/20/',\n",
       " 'https://pydata.org/warsaw2018/schedule/presentation/26/',\n",
       " 'https://pydata.org/warsaw2018/schedule/presentation/55/',\n",
       " 'https://pydata.org/warsaw2018/schedule/presentation/7/',\n",
       " 'https://pydata.org/warsaw2018/schedule/presentation/15/',\n",
       " 'https://pydata.org/warsaw2018/schedule/presentation/31/',\n",
       " 'https://pydata.org/warsaw2018/schedule/presentation/4/',\n",
       " 'https://pydata.org/warsaw2018/schedule/presentation/27/',\n",
       " 'https://pydata.org/warsaw2018/schedule/presentation/53/',\n",
       " 'https://pydata.org/warsaw2018/schedule/presentation/64/',\n",
       " 'https://pydata.org/warsaw2018/schedule/presentation/65/',\n",
       " 'https://pydata.org/warsaw2018/schedule/presentation/66/',\n",
       " 'https://pydata.org/warsaw2018/schedule/presentation/14/',\n",
       " 'https://pydata.org/warsaw2018/schedule/presentation/30/',\n",
       " 'https://pydata.org/warsaw2018/schedule/presentation/10/',\n",
       " 'https://pydata.org/warsaw2018/schedule/presentation/35/',\n",
       " 'https://pydata.org/warsaw2018/schedule/presentation/25/',\n",
       " 'https://pydata.org/warsaw2018/schedule/presentation/21/',\n",
       " 'https://pydata.org/warsaw2018/schedule/presentation/19/',\n",
       " 'https://pydata.org/warsaw2018/schedule/presentation/18/',\n",
       " 'https://pydata.org/warsaw2018/schedule/presentation/57/',\n",
       " 'https://pydata.org/warsaw2018/schedule/presentation/54/',\n",
       " 'https://pydata.org/warsaw2018/schedule/presentation/13/',\n",
       " 'https://pydata.org/warsaw2018/schedule/presentation/28/',\n",
       " 'https://pydata.org/warsaw2018/schedule/presentation/49/',\n",
       " 'https://pydata.org/warsaw2018/schedule/presentation/8/',\n",
       " 'https://pydata.org/warsaw2018/schedule/presentation/24/',\n",
       " 'https://pydata.org/warsaw2018/schedule/presentation/23/']"
      ]
     },
     "execution_count": 22,
     "metadata": {},
     "output_type": "execute_result"
    }
   ],
   "source": [
    "talk_urls"
   ]
  },
  {
   "cell_type": "markdown",
   "metadata": {},
   "source": [
    "# Combine parsing"
   ]
  },
  {
   "cell_type": "code",
   "execution_count": 103,
   "metadata": {},
   "outputs": [],
   "source": [
    "fetched_pages = [requests.get(url).content for url in talk_urls]"
   ]
  },
  {
   "cell_type": "code",
   "execution_count": 108,
   "metadata": {
    "scrolled": true
   },
   "outputs": [
    {
     "name": "stdout",
     "output_type": "stream",
     "text": [
      "0   https://pydata.org/warsaw2018/schedule/presentation/11/\n",
      "1   https://pydata.org/warsaw2018/schedule/presentation/32/\n",
      "2   https://pydata.org/warsaw2018/schedule/presentation/51/\n",
      "3   https://pydata.org/warsaw2018/schedule/presentation/3/\n",
      "4   https://pydata.org/warsaw2018/schedule/presentation/52/\n",
      "5   https://pydata.org/warsaw2018/schedule/presentation/37/\n",
      "6   https://pydata.org/warsaw2018/schedule/presentation/17/\n",
      "7   https://pydata.org/warsaw2018/schedule/presentation/33/\n",
      "8   https://pydata.org/warsaw2018/schedule/presentation/38/\n",
      "9   https://pydata.org/warsaw2018/schedule/presentation/9/\n",
      "10   https://pydata.org/warsaw2018/schedule/presentation/34/\n",
      "11   https://pydata.org/warsaw2018/schedule/presentation/36/\n",
      "12   https://pydata.org/warsaw2018/schedule/presentation/16/\n",
      "13   https://pydata.org/warsaw2018/schedule/presentation/22/\n",
      "14   https://pydata.org/warsaw2018/schedule/presentation/40/\n",
      "15   https://pydata.org/warsaw2018/schedule/presentation/20/\n",
      "16   https://pydata.org/warsaw2018/schedule/presentation/26/\n",
      "17   https://pydata.org/warsaw2018/schedule/presentation/55/\n",
      "18   https://pydata.org/warsaw2018/schedule/presentation/7/\n",
      "19   https://pydata.org/warsaw2018/schedule/presentation/15/\n",
      "20   https://pydata.org/warsaw2018/schedule/presentation/31/\n",
      "21   https://pydata.org/warsaw2018/schedule/presentation/4/\n",
      "22   https://pydata.org/warsaw2018/schedule/presentation/27/\n",
      "23   https://pydata.org/warsaw2018/schedule/presentation/53/\n",
      "24   https://pydata.org/warsaw2018/schedule/presentation/64/\n",
      "25   https://pydata.org/warsaw2018/schedule/presentation/65/\n",
      "26   https://pydata.org/warsaw2018/schedule/presentation/66/\n",
      "27   https://pydata.org/warsaw2018/schedule/presentation/14/\n",
      "28   https://pydata.org/warsaw2018/schedule/presentation/30/\n",
      "29   https://pydata.org/warsaw2018/schedule/presentation/10/\n",
      "30   https://pydata.org/warsaw2018/schedule/presentation/35/\n",
      "31   https://pydata.org/warsaw2018/schedule/presentation/25/\n",
      "32   https://pydata.org/warsaw2018/schedule/presentation/21/\n",
      "33   https://pydata.org/warsaw2018/schedule/presentation/19/\n",
      "34   https://pydata.org/warsaw2018/schedule/presentation/18/\n",
      "35   https://pydata.org/warsaw2018/schedule/presentation/57/\n",
      "36   https://pydata.org/warsaw2018/schedule/presentation/54/\n",
      "37   https://pydata.org/warsaw2018/schedule/presentation/13/\n",
      "38   https://pydata.org/warsaw2018/schedule/presentation/28/\n",
      "39   https://pydata.org/warsaw2018/schedule/presentation/49/\n",
      "40   https://pydata.org/warsaw2018/schedule/presentation/8/\n",
      "41   https://pydata.org/warsaw2018/schedule/presentation/24/\n",
      "42   https://pydata.org/warsaw2018/schedule/presentation/23/\n"
     ]
    }
   ],
   "source": [
    "result = []\n",
    "for _i in range(len(fetched_pages)):\n",
    "    _url = talk_urls[_i]\n",
    "    print(_i, \" \", _url)\n",
    "    _page = fetched_pages[_i]\n",
    "    _dict = find_pydata_divs(_page)\n",
    "    _dict[\"url\"] = _url\n",
    "    result.append(_dict)"
   ]
  },
  {
   "cell_type": "code",
   "execution_count": 109,
   "metadata": {
    "scrolled": true
   },
   "outputs": [
    {
     "data": {
      "text/plain": [
       "['Adam Paszke',\n",
       " 'Marcin Mosiołek',\n",
       " 'Sylwia Brodacka',\n",
       " 'Mateusz Opala',\n",
       " 'Steph Samson',\n",
       " 'Robert Kostrzewski',\n",
       " 'Tymoteusz Wołodźko',\n",
       " 'Łukasz Kopeć',\n",
       " 'Jakub Sanojca',\n",
       " 'Agata Chęcińska',\n",
       " 'Szymon Wojciechowski',\n",
       " 'Marcin Kostur',\n",
       " 'Dawid Rymarczyk',\n",
       " 'Shahnawaz Ahmed',\n",
       " 'Dominik Lewy',\n",
       " 'Katarina Milosevic, Ioana Gherman',\n",
       " 'Kamila Stepniowska',\n",
       " 'Michał Jadczuk',\n",
       " 'Adam Svystun',\n",
       " 'Donald Whyte',\n",
       " 'Adam Witkowski',\n",
       " 'Juan De Dios Santos',\n",
       " 'Mia Polovina',\n",
       " 'Łukasz Słabiński',\n",
       " 'Stefania Druga',\n",
       " 'Gene Kogan',\n",
       " 'Alex Quemy',\n",
       " 'Jacek Komorowski',\n",
       " 'Rafał A. Bachorz',\n",
       " 'Dr Maciej Hermanowicz',\n",
       " 'Tomasz Bartczak',\n",
       " 'Marcin Stachowiak',\n",
       " 'Adam Słucki',\n",
       " 'Przemyslaw Biecek',\n",
       " 'Krzysztof Kotowski',\n",
       " 'Marcin Możejko',\n",
       " 'Pawel Cyrta',\n",
       " 'Tomasz Włodarczyk',\n",
       " 'Katarzyna Kańska',\n",
       " 'Roel Bertens',\n",
       " 'Steven Nooijen',\n",
       " 'Sylwester Brzęczkowski',\n",
       " 'Justin Shenk']"
      ]
     },
     "execution_count": 109,
     "metadata": {},
     "output_type": "execute_result"
    }
   ],
   "source": [
    "[el[\"author\"] for el in result]"
   ]
  },
  {
   "cell_type": "markdown",
   "metadata": {},
   "source": [
    "# List Descriptions"
   ]
  },
  {
   "cell_type": "code",
   "execution_count": 44,
   "metadata": {},
   "outputs": [
    {
     "data": {
      "text/plain": [
       "dict_keys(['description', 'abstract', 'author', 'title'])"
      ]
     },
     "execution_count": 44,
     "metadata": {},
     "output_type": "execute_result"
    }
   ],
   "source": [
    "result[0].keys()"
   ]
  },
  {
   "cell_type": "code",
   "execution_count": 51,
   "metadata": {},
   "outputs": [
    {
     "data": {
      "text/plain": [
       "<div class=\"description\"><p>PyTorch is one of the main tools used for machine learning research these days. It’s been developed in beta mode for over 2 years, but this October, a release candidate for 1.0 version has been finally released! In this talk, I’ll briefly introduce the library, and then move on to showcase the cutting edge features we introduced recently.</p></div>"
      ]
     },
     "execution_count": 51,
     "metadata": {},
     "output_type": "execute_result"
    }
   ],
   "source": [
    "result[0][\"description\"]"
   ]
  },
  {
   "cell_type": "code",
   "execution_count": 52,
   "metadata": {
    "scrolled": false
   },
   "outputs": [
    {
     "data": {
      "text/plain": [
       "'PyTorch is one of the main tools used for machine learning research these\\ndays. It’s been developed in beta mode for over 2 years, but this October, a\\nrelease candidate for 1.0 version has been finally released! In this talk,\\nI’ll briefly introduce the library, and then move on to showcase the cutting\\nedge features we introduced recently.\\n\\n'"
      ]
     },
     "execution_count": 52,
     "metadata": {},
     "output_type": "execute_result"
    }
   ],
   "source": [
    "html2text(str(result[0][\"description\"]))"
   ]
  },
  {
   "cell_type": "code",
   "execution_count": 53,
   "metadata": {
    "scrolled": true
   },
   "outputs": [
    {
     "data": {
      "text/plain": [
       "'The talk will be divided into multiple sections. First, an extremely quick\\nintroduction to what PyTorch is, and what can it be used for (including use\\ncases outside of machine learning!). Then, I will cover a number of topics\\nthat are interesting in the current context of the library, including: \\\\-\\nHybrid frontend (JIT compiler) \\\\- Path from research to production \\\\- C++ API\\nand inference \\\\- Caffe2 merger \\\\- New distributed backend\\n\\n'"
      ]
     },
     "execution_count": 53,
     "metadata": {},
     "output_type": "execute_result"
    }
   ],
   "source": [
    "html2text(str(result[0][\"abstract\"]))"
   ]
  },
  {
   "cell_type": "code",
   "execution_count": 57,
   "metadata": {
    "scrolled": true
   },
   "outputs": [
    {
     "data": {
      "text/plain": [
       "'The talk will be divided into multiple sections. First, an extremely quick introduction to what PyTorch is, and what can it be used for (including use cases outside of machine learning!). Then, I will cover a number of topics that are interesting in the current context of the library, including: - Hybrid frontend (JIT compiler) - Path from research to production - C++ API and inference - Caffe2 merger - New distributed backend'"
      ]
     },
     "execution_count": 57,
     "metadata": {},
     "output_type": "execute_result"
    }
   ],
   "source": [
    "html2text(str(result[0][\"abstract\"])).replace(\"\\n\", \" \").replace(\"\\\\\", \"\").strip()"
   ]
  },
  {
   "cell_type": "code",
   "execution_count": 58,
   "metadata": {},
   "outputs": [],
   "source": [
    "def tag_to_text(tag):\n",
    "    return html2text(str(tag)).replace(\"\\n\", \" \").replace(\"\\\\\", \"\").strip() "
   ]
  },
  {
   "cell_type": "code",
   "execution_count": 59,
   "metadata": {
    "scrolled": true
   },
   "outputs": [
    {
     "name": "stdout",
     "output_type": "stream",
     "text": [
      "PyTorch is one of the main tools used for machine learning research these days. It’s been developed in beta mode for over 2 years, but this October, a release candidate for 1.0 version has been finally released! In this talk, I’ll briefly introduce the library, and then move on to showcase the cutting edge features we introduced recently.\n",
      "The talk is about to provide a gentle introduction into the world of 3D deep learning techniques, considering basic aspects such as input representation, typical problems and most popular models. After the talk you should be able understand common challenges occurring when working with point clouds, and more importantly, you should be able to tackle them properly.\n",
      "Luna is a general-purpose programming language with an intuitive visual interface that is dedicated to data science applications. In this presentation we will show how to improve interpretation of results and communication, including with non-technical business experts, by making data visualization the driving component of data science workflow.\n",
      "Recently neural networks have become superior in many machine learning tasks. However, they are more difficult to interpret than simpler models such as decision trees. Such a condition is not acceptable in industries like healthcare or law. In this talk, I will talk on unified approach to explain the output of any machine learning model, especially neural networks.\n",
      "The data we need is sourced from different places. The data could even come in different formats. I will talk about how I used data from different APIs, cleaned and preprocessed it, and wrapped it up under a new API for a restaurant discovery service. This talk is for attendees looking to jump into the data science industry for the first time.\n",
      "Imbalance ratio is a definition describing relation of frequency of data classified to following classification classes. Assuming binary classification as datasets' domain, higher the ratio is, more disproportion on feature existence distribution is observed. The talk’s goal is to compare, in both theoretical and practical ways, various fresh methods of dealing with the problem.\n",
      "We will compare “shallow” and “deep” machine learning approaches to solving a natural language processing problem. Pros, cons and consequences of both choices will be discussed.\n",
      "Is there a way to automatically say how warped a pool table is, just by looking at a video of people playing? In this talk I will explain how I did that using OpenCV for pool balls tracking, and how more heuristic approaches may improve this model’s performance. I will also present a simple analysis of the effect of different levels of warp on players’ scores.\n",
      "Deep learning thrives with always bigger networks and always growing datasets but single machine can only handle so much. When to scale to multiple machines and how do do it efficiently? What pros and cons available options have and what is theory behind their approach to distributed training? In this talk we will answer those questions and show what problems we are trying to solve at Avast.\n",
      "Intersection of artificial intelligence and art world is an intriguing concept. I will show several examples of this intersection, with the focus on the AI based \"Museum Treasures\" game, a winning solution from the HackArt: a hackathon organised by the National Museum in Warsaw. I will also touch on the topic of analogies between creative processes and machine learning processes.\n",
      "In Natural Language Processing, where we want to use a supervised model the frequent problem is the availability of labels. One way of circumventing tedious and cost-intensive manual annotation of (tens) of thousands of samples may be weak supervision, where heuristics, fragmentary datasets with annotations and crowd-sourced indications (on a fraction of samples) can be unified to generate labels.\n",
      "K3D-jupyter is a notebook visualization package which we have been developing since 2015. It offers a powerful and efficient tool with a simple interface to appealing techniques like volumetric rendering, meshes, lines, and points. Its performance allows for smooth visualization of datasets like 100 million points and updates with their position from python interface.\n",
      "Semantic segmentation is the process which aims to classify individual pixels of an image. Recently, Kaggle hosted the 2018 Data Science Bowl competition dedicated to nucleus detection and segmentation based on microscopic images. In this talk, I will present two approaches to this problem, based on U-Net and Mask R-CNN.\n",
      "We will discuss the qubit, a quantum bit, and what data processing and machine learning in the quantum computing era might look like using python based open- source tools.\n",
      "During the session I will explain the notion of transfer learning both in context of single task learning and recently very popular multitask models. I will give a brief overview of the state of the art approaches to machine translation (zero shot translation) and image recognition with a focus on transfer learning.\n",
      "Imagine two images of the same car model, same color and with small scratches on bumpers. How would you make a machine look at the scratches and decide if they are the same? This is a story about the implementation of a new structure of neural network trained on “triplets” of images which recognizes fine grained images similarity based on Deep Ranking algorithm.\n",
      "Let's talk about In Browser AI - the open source educational project brings together Python & JavaScript.  Bring deep learning demos of your research papers, commercial or side projects to the browsers. Create interactive explanations and tutorials, using interactive environment! Train in Python, show in JavaScript.\n",
      "With the overuse of antibiotics causing the emergence of superbugs, people all over the world are looking into their safer alternatives. Bacteriophages - or viruses that feed on the bacteria - might just be one of them. All phage strains must be carefully analyzed before commercial use, though. This presentation will explain how machine learning can speed up the evaluation of bacteriophages DNA.\n",
      "In our talk, we will present a Web-based working solution for video comixification - a task of converting a video into a comics. We will disclose technical details of how our comixification engine works and, finally, we will give a first public presentation of a working video comixification demo available at comixify.ii.pw.edu.pl.\n",
      "numpy and numba are popular Python libraries for processing large quantities of data. This talk explains how numpy/numba work under the hood and how they use vectorisation to process large amounts of data extremely quickly. We use these tools to reduce the processing time of a large, real 600GB dataset from one month to 40 minutes, even when the code is run on a single Macbook Pro.\n",
      "Ads on the web often consist of a picture with some text. Based on this information, can you tell what exactly is advertised? In this talk I will describe a system that automatically categorizes ads seen on the web. I will talk about potential approaches to this problem and describe in detail the chosen solution. This system was created as a joint project between Gemius and MIM Solutions.\n",
      "LOVOO, a dating app, is attractive to spam. These spammers disguise themselves as real users, using believable images and accurate descriptions on their profiles to lure our community into chatting with them. This presentation is on everything Antispam. In it, I will talk about the architecture of the system, data, and the algorithms and methods we employ to fight the spammers.\n",
      "This talk focuses on the insights gathered from analysis of Russian Troll Tweets, a dataset created by researchers at Clemson University and released on Github by FiveThirtyEight.\n",
      "I will show a few interesting examples of application the state of the art Machine Learning techniques in products used by millions of users. In this context, I will discuss also general but pragmatic need of R&D in the area of Artificial Intelligence from the perspective of Samsung Electronics - the world's largest information technology company, consumer electronics and chips maker.\n",
      "Much of our daily life is quietly being reshaped by AI, with 47 million people already using Alexa in their homes in USA only and an entire generation of children growing up with this technology. I believe the best way to understand how AI works is by doing.\n",
      "Over the past several years, two trends in machine learning have converged to pique the curiosity of artists working with code: the proliferation of powerful open source deep learning frameworks like TensorFlow and Torch, and the emergence of data-intensive generative models for hallucinating images, sounds, and text as though they came from the oeuvre of Shakespeare, Picasso, or just a gigantic database of digitized cats.\n",
      "It is commonly accepted that about 80% of data scientists time is spent on preparing data, including setting up the proper data pipeline or ETL. For a large part, the proper configuration of a given data pipeline is the result of the data scientist experience and Subject Matter Expert knowledge, plus a dose of arbitrary decisions. What if most of this work could be automated? Better, is it possible to find some universal pipeline configurations that can work well on a wide range of domains and thus transfer what has been learn on one dataset to another?\n",
      "Deep neural network give very good results in visual object recognition tasks, but they require large number of training examples from each category. I'll present a class of neural network architectures, that can be used when only few training examples from each class are available. They are based on 'similarity learning' concept and can be used to solve various practical problems.\n",
      "The presentation shows the application of Recurrent Neural Network to the problem of innovative drug design. The audience will also have an opportunity to get familiar with modern cheminformtics libraries available in Python ecosystem. The final element of the preeentation is live demonstration of the pretrained, generative predictove model applied to generation of new molecules.\n",
      "I will present a high-level overview of how automated image analysis approaches can be incorporated into pharmaceutical discovery pipelines. By taking a look at two GSK case studies I will demonstrate how to apply computer vision techniques to featurize imaging data, enabling the use of standard machine learning algorithms. I will highlight how these techniques benefit the drug discovery process.\n",
      "We will share our experience gained during development of ‘learning to rank’ system in an e-commerce setting. Our talk will cover both theoretical and practical aspect of the project - general approach in learning to rank, suitable tools, data and modelling pipeline and production deployment considerations. Finally, we will share some tips and tricks that come from actual, practical insights.\n",
      "Our objective was to build a connected intelligent shopping cart/basket, which will detect, which products have been placed in it and will generate shopping recommendations for the current cart user. We have used the state-of-the-art, real-time object detection system - YOLOv2, which deep architecture has been reduced to accelerate the evaluation on the Raspberry PI device and the Intel® Movidius.\n",
      "Using visual features alone is not enough to fully exploit content of social media videos. We propose a whole pipeline for extracting textual data embedded in videos and fusing them with the original visual data to predict drops in viewer’s retention.\n",
      "Why you need tools for exploration, visualisation and explanation for predictive models? During the talk I will present use cases in which model interpretability is crucial and overview tools that support model interpretability (Ceteris Paribus, Break Down, LIME, live, auditor). See more at DALEXverse: https://github.com/pbiecek/DALEX\n",
      "An introduction to EEG signal analysis from low-cost devices using the MNE Python package. A review of advances and the future of \"mind reading\".\n",
      "We will show how to assess the uncertainty of deep neural networks. We will cover Bayesian Deep Learning and other out-of-distribution detection methods. The talk will include examples that will show how to implement the methods in Pytorch.\n",
      "In the past two years, we’ve seen the industry discovery of speech as a critical interface protocol between humans and machines, especially for cloud- based information queries driving by speech recognition. These create significant new opportunities for every application that touches audio or video - opening up new potential for improved intelligibility, personalisation and customer “stickiness”.\n",
      "The desirable date of the birth of a child follows the full duration of pregnancy. According to WHO data, 15 million children are born prematurely every year, of which 1.1 million dies, unfortunately. In this talk, we will present how to improve prediction rate of the spontaneous preterm delivery using deep learning and computer vision methods.\n",
      "The talk will introduce a problem of upscaling a picture with as small loss of quality as possible using deep learning techniques. What metric to use when evaluating the solution? Upsample the image in the beginning or near the end of your neural network? Which upscaling layers to use? Answers to these and more questions on this topic will be discussed.\n",
      "At our company we like to eat burgers. Also, we like to analyse data. So on one Friday we decided to leverage our expertise and use online reviews, ratings and images to find us the best hamburger nearby our office in Amsterdam. This talk will be about that quest, and about the (overkill of) tools that we used for this purpose: Scrapy, ElasticSearch, Google's Vision API and BigQuery.\n",
      "Finally a good real-life use case for Reinforcement Learning (RL): traffic control! In this talk I will show you how we hooked up traffic simulation software to Python and how we built our own custom `gym` environment to run RL experiments with `keras-rl` for a simple 4-way intersection.\n",
      "I will present how to implement a face swap. We will go step by step from simple “copy & paste” face on another image to fully functioning and nice looking face swap.\n",
      "Identifying the number of hidden units in a fully connected layer is considered a heuristically-guided craft. A PyTorch library, Delve, was developed that allows identifying the degree of over-parameterization of a layer, thus guiding architecture selection. The library compares the intrinsic dimensionality of the layer over training, providing the user with live feedback during training.\n"
     ]
    }
   ],
   "source": [
    "for tag in [el[\"description\"] for el in result]:\n",
    "    print(tag_to_text(tag))"
   ]
  },
  {
   "cell_type": "code",
   "execution_count": 62,
   "metadata": {},
   "outputs": [],
   "source": [
    "descriptions = [tag_to_text(el[\"description\"]) for el in result]"
   ]
  },
  {
   "cell_type": "code",
   "execution_count": 111,
   "metadata": {},
   "outputs": [],
   "source": [
    "element = result[0]"
   ]
  },
  {
   "cell_type": "markdown",
   "metadata": {},
   "source": [
    "markdown link is like this: [link text](http://www.google.com)"
   ]
  },
  {
   "cell_type": "code",
   "execution_count": 127,
   "metadata": {
    "scrolled": false
   },
   "outputs": [
    {
     "data": {
      "text/plain": [
       "'#### [PyTorch 1.0: now and in the future](https://pydata.org/warsaw2018/schedule/presentation/11/) - Adam Paszke\\n'"
      ]
     },
     "execution_count": 127,
     "metadata": {},
     "output_type": "execute_result"
    }
   ],
   "source": [
    "\"#### [\" + element[\"title\"] + \"](\" + element[\"url\"] + \") - \" + element[\"author\"] + \"\\n\""
   ]
  },
  {
   "cell_type": "markdown",
   "metadata": {},
   "source": [
    "### [PyTorch 1.0: now and in the future](https://pydata.org/warsaw2018/schedule/presentation/11/) - Adam Paszke"
   ]
  },
  {
   "cell_type": "code",
   "execution_count": 128,
   "metadata": {},
   "outputs": [],
   "source": [
    "def make_heading(result_element):\n",
    "    return \"#### [\" + result_element[\"title\"] + \"](\" + result_element[\"url\"] + \") - \" + result_element[\"author\"] + \"\\n\"\n",
    "\n",
    "def make_description(result_element):\n",
    "    return make_heading(result_element) + tag_to_text(result_element[\"description\"])"
   ]
  },
  {
   "cell_type": "code",
   "execution_count": 129,
   "metadata": {
    "scrolled": true
   },
   "outputs": [
    {
     "data": {
      "text/plain": [
       "'#### [PyTorch 1.0: now and in the future](https://pydata.org/warsaw2018/schedule/presentation/11/) - Adam Paszke\\nPyTorch is one of the main tools used for machine learning research these days. It’s been developed in beta mode for over 2 years, but this October, a release candidate for 1.0 version has been finally released! In this talk, I’ll briefly introduce the library, and then move on to showcase the cutting edge features we introduced recently.'"
      ]
     },
     "execution_count": 129,
     "metadata": {},
     "output_type": "execute_result"
    }
   ],
   "source": [
    "make_description(element)"
   ]
  },
  {
   "cell_type": "code",
   "execution_count": 130,
   "metadata": {
    "scrolled": true
   },
   "outputs": [],
   "source": [
    "desc_list = []\n",
    "for _i in range(len(result)):\n",
    "#     print(_i)\n",
    "    _el = result[_i]\n",
    "    _desc = make_description(_el)\n",
    "    desc_list.append(_desc)\n",
    "    desc_list.append(\"\\n\\n\")"
   ]
  },
  {
   "cell_type": "code",
   "execution_count": 131,
   "metadata": {},
   "outputs": [
    {
     "name": "stdout",
     "output_type": "stream",
     "text": [
      "#### [PyTorch 1.0: now and in the future](https://pydata.org/warsaw2018/schedule/presentation/11/) - Adam Paszke\n",
      "PyTorch is one of the main tools used for machine learning research these days. It’s been developed in beta mode for over 2 years, but this October, a release candidate for 1.0 version has been finally released! In this talk, I’ll briefly introduce the library, and then move on to showcase the cutting edge features we introduced recently.\n",
      "\n",
      "#### [Deep Learning for 3D World: Point Clouds](https://pydata.org/warsaw2018/schedule/presentation/32/) - Marcin Mosiołek\n",
      "The talk is about to provide a gentle introduction into the world of 3D deep learning techniques, considering basic aspects such as input representation, typical problems and most popular models. After the talk you should be able understand common challenges occurring when working with point clouds, and more importantly, you should be able to tackle them properly.\n",
      "\n",
      "#### [Where visual meets textual. Luna - overview.](https://pydata.org/warsaw2018/schedule/presentation/51/) - Sylwia Brodacka\n",
      "Luna is a general-purpose programming language with an intuitive visual interface that is dedicated to data science applications. In this presentation we will show how to improve interpretation of results and communication, including with non-technical business experts, by making data visualization the driving component of data science workflow.\n",
      "\n",
      "#### [Can you trust neural networks?](https://pydata.org/warsaw2018/schedule/presentation/3/) - Mateusz Opala\n",
      "Recently neural networks have become superior in many machine learning tasks. However, they are more difficult to interpret than simpler models such as decision trees. Such a condition is not acceptable in industries like healthcare or law. In this talk, I will talk on unified approach to explain the output of any machine learning model, especially neural networks.\n",
      "\n",
      "#### [From Data to Deliverable](https://pydata.org/warsaw2018/schedule/presentation/52/) - Steph Samson\n",
      "The data we need is sourced from different places. The data could even come in different formats. I will talk about how I used data from different APIs, cleaned and preprocessed it, and wrapped it up under a new API for a restaurant discovery service. This talk is for attendees looking to jump into the data science industry for the first time.\n",
      "\n",
      "#### [Overview of imbalanced data prediction methods](https://pydata.org/warsaw2018/schedule/presentation/37/) - Robert Kostrzewski\n",
      "Imbalance ratio is a definition describing relation of frequency of data classified to following classification classes. Assuming binary classification as datasets' domain, higher the ratio is, more disproportion on feature existence distribution is observed. The talk’s goal is to compare, in both theoretical and practical ways, various fresh methods of dealing with the problem.\n",
      "\n",
      "#### [Recognizing products from raw text descriptions using “shallow” and “deep” machine learning](https://pydata.org/warsaw2018/schedule/presentation/17/) - Tymoteusz Wołodźko\n",
      "We will compare “shallow” and “deep” machine learning approaches to solving a natural language processing problem. Pros, cons and consequences of both choices will be discussed.\n",
      "\n",
      "#### [How I learnt computer vision by playing pool](https://pydata.org/warsaw2018/schedule/presentation/33/) - Łukasz Kopeć\n",
      "Is there a way to automatically say how warped a pool table is, just by looking at a video of people playing? In this talk I will explain how I did that using OpenCV for pool balls tracking, and how more heuristic approaches may improve this model’s performance. I will also present a simple analysis of the effect of different levels of warp on players’ scores.\n",
      "\n",
      "#### [Distributed deep learning and why you may not need it](https://pydata.org/warsaw2018/schedule/presentation/38/) - Jakub Sanojca\n",
      "Deep learning thrives with always bigger networks and always growing datasets but single machine can only handle so much. When to scale to multiple machines and how do do it efficiently? What pros and cons available options have and what is theory behind their approach to distributed training? In this talk we will answer those questions and show what problems we are trying to solve at Avast.\n",
      "\n",
      "#### [AI meets Art](https://pydata.org/warsaw2018/schedule/presentation/9/) - Agata Chęcińska\n",
      "Intersection of artificial intelligence and art world is an intriguing concept. I will show several examples of this intersection, with the focus on the AI based \"Museum Treasures\" game, a winning solution from the HackArt: a hackathon organised by the National Museum in Warsaw. I will also touch on the topic of analogies between creative processes and machine learning processes.\n",
      "\n",
      "#### [Hand in hand with weak supervision using snorkel](https://pydata.org/warsaw2018/schedule/presentation/34/) - Szymon Wojciechowski\n",
      "In Natural Language Processing, where we want to use a supervised model the frequent problem is the availability of labels. One way of circumventing tedious and cost-intensive manual annotation of (tens) of thousands of samples may be weak supervision, where heuristics, fragmentary datasets with annotations and crowd-sourced indications (on a fraction of samples) can be unified to generate labels.\n",
      "\n",
      "#### [3d visualisation in a Jupyter notebook](https://pydata.org/warsaw2018/schedule/presentation/36/) - Marcin Kostur\n",
      "K3D-jupyter is a notebook visualization package which we have been developing since 2015. It offers a powerful and efficient tool with a simple interface to appealing techniques like volumetric rendering, meshes, lines, and points. Its performance allows for smooth visualization of datasets like 100 million points and updates with their position from python interface.\n",
      "\n",
      "#### [Deep Learning Semantic Segmentation for Nucleus Detection](https://pydata.org/warsaw2018/schedule/presentation/16/) - Dawid Rymarczyk\n",
      "Semantic segmentation is the process which aims to classify individual pixels of an image. Recently, Kaggle hosted the 2018 Data Science Bowl competition dedicated to nucleus detection and segmentation based on microscopic images. In this talk, I will present two approaches to this problem, based on U-Net and Mask R-CNN.\n",
      "\n",
      "#### [Bit to Qubit: Data in the age of quantum computers.](https://pydata.org/warsaw2018/schedule/presentation/22/) - Shahnawaz Ahmed\n",
      "We will discuss the qubit, a quantum bit, and what data processing and machine learning in the quantum computing era might look like using python based open- source tools.\n",
      "\n",
      "#### [Transfer Learning for Neural Networks](https://pydata.org/warsaw2018/schedule/presentation/40/) - Dominik Lewy\n",
      "During the session I will explain the notion of transfer learning both in context of single task learning and recently very popular multitask models. I will give a brief overview of the state of the art approaches to machine translation (zero shot translation) and image recognition with a focus on transfer learning.\n",
      "\n",
      "#### [Spot the difference: train your image analytics model to recognize fine grained similarity](https://pydata.org/warsaw2018/schedule/presentation/20/) - Katarina Milosevic, Ioana Gherman\n",
      "Imagine two images of the same car model, same color and with small scratches on bumpers. How would you make a machine look at the scratches and decide if they are the same? This is a story about the implementation of a new structure of neural network trained on “triplets” of images which recognizes fine grained images similarity based on Deep Ranking algorithm.\n",
      "\n",
      "#### [In Browser AI - neural networks for everyone](https://pydata.org/warsaw2018/schedule/presentation/26/) - Kamila Stepniowska\n",
      "Let's talk about In Browser AI - the open source educational project brings together Python & JavaScript.  Bring deep learning demos of your research papers, commercial or side projects to the browsers. Create interactive explanations and tutorials, using interactive environment! Train in Python, show in JavaScript.\n",
      "\n",
      "#### [Using convolutional neural networks to analyze bacteriophages DNA](https://pydata.org/warsaw2018/schedule/presentation/55/) - Michał Jadczuk\n",
      "With the overuse of antibiotics causing the emergence of superbugs, people all over the world are looking into their safer alternatives. Bacteriophages - or viruses that feed on the bacteria - might just be one of them. All phage strains must be carefully analyzed before commercial use, though. This presentation will explain how machine learning can speed up the evaluation of bacteriophages DNA.\n",
      "\n",
      "#### [Comixify: Turning videos into comics](https://pydata.org/warsaw2018/schedule/presentation/7/) - Adam Svystun\n",
      "In our talk, we will present a Web-based working solution for video comixification - a task of converting a video into a comics. We will disclose technical details of how our comixification engine works and, finally, we will give a first public presentation of a working video comixification demo available at comixify.ii.pw.edu.pl.\n",
      "\n",
      "#### [High Performance Data Processing in Python](https://pydata.org/warsaw2018/schedule/presentation/15/) - Donald Whyte\n",
      "numpy and numba are popular Python libraries for processing large quantities of data. This talk explains how numpy/numba work under the hood and how they use vectorisation to process large amounts of data extremely quickly. We use these tools to reduce the processing time of a large, real 600GB dataset from one month to 40 minutes, even when the code is run on a single Macbook Pro.\n",
      "\n",
      "#### [What ad is this?](https://pydata.org/warsaw2018/schedule/presentation/31/) - Adam Witkowski\n",
      "Ads on the web often consist of a picture with some text. Based on this information, can you tell what exactly is advertised? In this talk I will describe a system that automatically categorizes ads seen on the web. I will talk about potential approaches to this problem and describe in detail the chosen solution. This system was created as a joint project between Gemius and MIM Solutions.\n",
      "\n",
      "#### [Spammers vs. Data: My everyday fight](https://pydata.org/warsaw2018/schedule/presentation/4/) - Juan De Dios Santos\n",
      "LOVOO, a dating app, is attractive to spam. These spammers disguise themselves as real users, using believable images and accurate descriptions on their profiles to lure our community into chatting with them. This presentation is on everything Antispam. In it, I will talk about the architecture of the system, data, and the algorithms and methods we employ to fight the spammers.\n",
      "\n",
      "#### [Analysing Russian Troll Tweets data with Python](https://pydata.org/warsaw2018/schedule/presentation/27/) - Mia Polovina\n",
      "This talk focuses on the insights gathered from analysis of Russian Troll Tweets, a dataset created by researchers at Clemson University and released on Github by FiveThirtyEight.\n",
      "\n",
      "#### [Pragmatic application of Machine Learning in commercial products.](https://pydata.org/warsaw2018/schedule/presentation/53/) - Łukasz Słabiński\n",
      "I will show a few interesting examples of application the state of the art Machine Learning techniques in products used by millions of users. In this context, I will discuss also general but pragmatic need of R&D in the area of Artificial Intelligence from the perspective of Samsung Electronics - the world's largest information technology company, consumer electronics and chips maker.\n",
      "\n",
      "#### [Cognimates: Read, Write and Tinker with AI](https://pydata.org/warsaw2018/schedule/presentation/64/) - Stefania Druga\n",
      "Much of our daily life is quietly being reshaped by AI, with 47 million people already using Alexa in their homes in USA only and an entire generation of children growing up with this technology. I believe the best way to understand how AI works is by doing.\n",
      "\n",
      "#### [The Neural Aesthetic](https://pydata.org/warsaw2018/schedule/presentation/65/) - Gene Kogan\n",
      "Over the past several years, two trends in machine learning have converged to pique the curiosity of artists working with code: the proliferation of powerful open source deep learning frameworks like TensorFlow and Torch, and the emergence of data-intensive generative models for hallucinating images, sounds, and text as though they came from the oeuvre of Shakespeare, Picasso, or just a gigantic database of digitized cats.\n",
      "\n",
      "#### [Towards Data Pipeline Hyperparameter Optimization](https://pydata.org/warsaw2018/schedule/presentation/66/) - Alex Quemy\n",
      "It is commonly accepted that about 80% of data scientists time is spent on preparing data, including setting up the proper data pipeline or ETL. For a large part, the proper configuration of a given data pipeline is the result of the data scientist experience and Subject Matter Expert knowledge, plus a dose of arbitrary decisions. What if most of this work could be automated? Better, is it possible to find some universal pipeline configurations that can work well on a wide range of domains and thus transfer what has been learn on one dataset to another?\n",
      "\n",
      "#### [Similarity learning using deep neural networks](https://pydata.org/warsaw2018/schedule/presentation/14/) - Jacek Komorowski\n",
      "Deep neural network give very good results in visual object recognition tasks, but they require large number of training examples from each category. I'll present a class of neural network architectures, that can be used when only few training examples from each class are available. They are based on 'similarity learning' concept and can be used to solve various practical problems.\n",
      "\n",
      "#### [Application of Recurrent Neural Networks to innovative drug design](https://pydata.org/warsaw2018/schedule/presentation/30/) - Rafał A. Bachorz\n",
      "The presentation shows the application of Recurrent Neural Network to the problem of innovative drug design. The audience will also have an opportunity to get familiar with modern cheminformtics libraries available in Python ecosystem. The final element of the preeentation is live demonstration of the pretrained, generative predictove model applied to generation of new molecules.\n",
      "\n",
      "#### [Computer vision challenges in drug discovery](https://pydata.org/warsaw2018/schedule/presentation/10/) - Dr Maciej Hermanowicz\n",
      "I will present a high-level overview of how automated image analysis approaches can be incorporated into pharmaceutical discovery pipelines. By taking a look at two GSK case studies I will demonstrate how to apply computer vision techniques to featurize imaging data, enabling the use of standard machine learning algorithms. I will highlight how these techniques benefit the drug discovery process.\n",
      "\n",
      "#### [Learning to rank @ allegro.pl](https://pydata.org/warsaw2018/schedule/presentation/35/) - Tomasz Bartczak\n",
      "We will share our experience gained during development of ‘learning to rank’ system in an e-commerce setting. Our talk will cover both theoretical and practical aspect of the project - general approach in learning to rank, suitable tools, data and modelling pipeline and production deployment considerations. Finally, we will share some tips and tricks that come from actual, practical insights.\n",
      "\n",
      "#### [The smart shopping basket: A Case Study with deep learning, Intel Movidius and AWS](https://pydata.org/warsaw2018/schedule/presentation/25/) - Marcin Stachowiak\n",
      "Our objective was to build a connected intelligent shopping cart/basket, which will detect, which products have been placed in it and will generate shopping recommendations for the current cart user. We have used the state-of-the-art, real-time object detection system - YOLOv2, which deep architecture has been reduced to accelerate the evaluation on the Raspberry PI device and the Intel® Movidius.\n",
      "\n",
      "#### [It is never too much: training deep learning models with more than one modality.](https://pydata.org/warsaw2018/schedule/presentation/21/) - Adam Słucki\n",
      "Using visual features alone is not enough to fully exploit content of social media videos. We propose a whole pipeline for extracting textual data embedded in videos and fusing them with the original visual data to predict drops in viewer’s retention.\n",
      "\n",
      "#### [Visualize, Explore and Explain Predictive ML Models](https://pydata.org/warsaw2018/schedule/presentation/19/) - Przemyslaw Biecek\n",
      "Why you need tools for exploration, visualisation and explanation for predictive models? During the talk I will present use cases in which model interpretability is crucial and overview tools that support model interpretability (Ceteris Paribus, Break Down, LIME, live, auditor). See more at DALEXverse: https://github.com/pbiecek/DALEX\n",
      "\n",
      "#### [The Dawn of Mind Reading in Python](https://pydata.org/warsaw2018/schedule/presentation/18/) - Krzysztof Kotowski\n",
      "An introduction to EEG signal analysis from low-cost devices using the MNE Python package. A review of advances and the future of \"mind reading\".\n",
      "\n",
      "#### [Uncertainty estimation and Bayesian Neural Networks](https://pydata.org/warsaw2018/schedule/presentation/57/) - Marcin Możejko\n",
      "We will show how to assess the uncertainty of deep neural networks. We will cover Bayesian Deep Learning and other out-of-distribution detection methods. The talk will include examples that will show how to implement the methods in Pytorch.\n",
      "\n",
      "#### [A deep revolution in speech processing and analysis](https://pydata.org/warsaw2018/schedule/presentation/54/) - Pawel Cyrta\n",
      "In the past two years, we’ve seen the industry discovery of speech as a critical interface protocol between humans and machines, especially for cloud- based information queries driving by speech recognition. These create significant new opportunities for every application that touches audio or video - opening up new potential for improved intelligibility, personalisation and customer “stickiness”.\n",
      "\n",
      "#### [Predicting preterm birth with convolutional neural nets](https://pydata.org/warsaw2018/schedule/presentation/13/) - Tomasz Włodarczyk\n",
      "The desirable date of the birth of a child follows the full duration of pregnancy. According to WHO data, 15 million children are born prematurely every year, of which 1.1 million dies, unfortunately. In this talk, we will present how to improve prediction rate of the spontaneous preterm delivery using deep learning and computer vision methods.\n",
      "\n",
      "#### [Can you enhance that? Single Image Super Resolution](https://pydata.org/warsaw2018/schedule/presentation/28/) - Katarzyna Kańska\n",
      "The talk will introduce a problem of upscaling a picture with as small loss of quality as possible using deep learning techniques. What metric to use when evaluating the solution? Upsample the image in the beginning or near the end of your neural network? Which upscaling layers to use? Answers to these and more questions on this topic will be discussed.\n",
      "\n",
      "#### [Burger Quest: finding the best hamburger in town!](https://pydata.org/warsaw2018/schedule/presentation/49/) - Roel Bertens\n",
      "At our company we like to eat burgers. Also, we like to analyse data. So on one Friday we decided to leverage our expertise and use online reviews, ratings and images to find us the best hamburger nearby our office in Amsterdam. This talk will be about that quest, and about the (overkill of) tools that we used for this purpose: Scrapy, ElasticSearch, Google's Vision API and BigQuery.\n",
      "\n",
      "#### [Hitting the gym: controlling traffic with Reinforcement Learning](https://pydata.org/warsaw2018/schedule/presentation/8/) - Steven Nooijen\n",
      "Finally a good real-life use case for Reinforcement Learning (RL): traffic control! In this talk I will show you how we hooked up traffic simulation software to Python and how we built our own custom `gym` environment to run RL experiments with `keras-rl` for a simple 4-way intersection.\n",
      "\n",
      "#### [Step by step face swap.](https://pydata.org/warsaw2018/schedule/presentation/24/) - Sylwester Brzęczkowski\n",
      "I will present how to implement a face swap. We will go step by step from simple “copy & paste” face on another image to fully functioning and nice looking face swap.\n",
      "\n",
      "#### [Optimizing Deep Neural Network Layer Topology with Delve](https://pydata.org/warsaw2018/schedule/presentation/23/) - Justin Shenk\n",
      "Identifying the number of hidden units in a fully connected layer is considered a heuristically-guided craft. A PyTorch library, Delve, was developed that allows identifying the degree of over-parameterization of a layer, thus guiding architecture selection. The library compares the intrinsic dimensionality of the layer over training, providing the user with live feedback during training.\n",
      "\n",
      "\n"
     ]
    }
   ],
   "source": [
    "print(\"\".join(desc_list))"
   ]
  }
 ],
 "metadata": {
  "kernelspec": {
   "display_name": "Python 3",
   "language": "python",
   "name": "python3"
  },
  "language_info": {
   "codemirror_mode": {
    "name": "ipython",
    "version": 3
   },
   "file_extension": ".py",
   "mimetype": "text/x-python",
   "name": "python",
   "nbconvert_exporter": "python",
   "pygments_lexer": "ipython3",
   "version": "3.6.7"
  }
 },
 "nbformat": 4,
 "nbformat_minor": 2
}
